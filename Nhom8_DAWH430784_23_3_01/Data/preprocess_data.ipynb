{
 "cells": [
  {
   "cell_type": "markdown",
   "id": "b7d06a08",
   "metadata": {},
   "source": [
    "## Import Libaries"
   ]
  },
  {
   "cell_type": "code",
   "execution_count": 1,
   "id": "57bcf5c1",
   "metadata": {},
   "outputs": [],
   "source": [
    "import pandas as pd\n",
    "import random"
   ]
  },
  {
   "cell_type": "markdown",
   "id": "eb073c6d",
   "metadata": {},
   "source": [
    "## Load dataset"
   ]
  },
  {
   "cell_type": "code",
   "execution_count": 2,
   "id": "2738f674",
   "metadata": {},
   "outputs": [
    {
     "name": "stdout",
     "output_type": "stream",
     "text": [
      "README.md\n",
      "SSIS\n",
      "dataset\n",
      "preprocess_data.ipynb\n",
      "report\n"
     ]
    }
   ],
   "source": [
    "!ls"
   ]
  },
  {
   "cell_type": "code",
   "execution_count": 3,
   "id": "2ad2e909",
   "metadata": {},
   "outputs": [
    {
     "name": "stdout",
     "output_type": "stream",
     "text": [
      "marketing_data.csv\n"
     ]
    }
   ],
   "source": [
    "!ls dataset"
   ]
  },
  {
   "cell_type": "code",
   "execution_count": 4,
   "id": "b057c878",
   "metadata": {},
   "outputs": [
    {
     "data": {
      "text/html": [
       "<div>\n",
       "<style scoped>\n",
       "    .dataframe tbody tr th:only-of-type {\n",
       "        vertical-align: middle;\n",
       "    }\n",
       "\n",
       "    .dataframe tbody tr th {\n",
       "        vertical-align: top;\n",
       "    }\n",
       "\n",
       "    .dataframe thead th {\n",
       "        text-align: right;\n",
       "    }\n",
       "</style>\n",
       "<table border=\"1\" class=\"dataframe\">\n",
       "  <thead>\n",
       "    <tr style=\"text-align: right;\">\n",
       "      <th></th>\n",
       "      <th>ID</th>\n",
       "      <th>Year_Birth</th>\n",
       "      <th>Education</th>\n",
       "      <th>Marital_Status</th>\n",
       "      <th>Income</th>\n",
       "      <th>Kidhome</th>\n",
       "      <th>Teenhome</th>\n",
       "      <th>Dt_Customer</th>\n",
       "      <th>Recency</th>\n",
       "      <th>MntWines</th>\n",
       "      <th>...</th>\n",
       "      <th>NumStorePurchases</th>\n",
       "      <th>NumWebVisitsMonth</th>\n",
       "      <th>AcceptedCmp3</th>\n",
       "      <th>AcceptedCmp4</th>\n",
       "      <th>AcceptedCmp5</th>\n",
       "      <th>AcceptedCmp1</th>\n",
       "      <th>AcceptedCmp2</th>\n",
       "      <th>Response</th>\n",
       "      <th>Complain</th>\n",
       "      <th>Country</th>\n",
       "    </tr>\n",
       "  </thead>\n",
       "  <tbody>\n",
       "    <tr>\n",
       "      <th>0</th>\n",
       "      <td>1826</td>\n",
       "      <td>1970</td>\n",
       "      <td>Graduation</td>\n",
       "      <td>Divorced</td>\n",
       "      <td>$84,835.00</td>\n",
       "      <td>0</td>\n",
       "      <td>0</td>\n",
       "      <td>6/16/2014</td>\n",
       "      <td>0</td>\n",
       "      <td>189</td>\n",
       "      <td>...</td>\n",
       "      <td>6</td>\n",
       "      <td>1</td>\n",
       "      <td>0</td>\n",
       "      <td>0</td>\n",
       "      <td>0</td>\n",
       "      <td>0</td>\n",
       "      <td>0</td>\n",
       "      <td>1</td>\n",
       "      <td>0</td>\n",
       "      <td>SP</td>\n",
       "    </tr>\n",
       "    <tr>\n",
       "      <th>1</th>\n",
       "      <td>1</td>\n",
       "      <td>1961</td>\n",
       "      <td>Graduation</td>\n",
       "      <td>Single</td>\n",
       "      <td>$57,091.00</td>\n",
       "      <td>0</td>\n",
       "      <td>0</td>\n",
       "      <td>6/15/2014</td>\n",
       "      <td>0</td>\n",
       "      <td>464</td>\n",
       "      <td>...</td>\n",
       "      <td>7</td>\n",
       "      <td>5</td>\n",
       "      <td>0</td>\n",
       "      <td>0</td>\n",
       "      <td>0</td>\n",
       "      <td>0</td>\n",
       "      <td>1</td>\n",
       "      <td>1</td>\n",
       "      <td>0</td>\n",
       "      <td>CA</td>\n",
       "    </tr>\n",
       "    <tr>\n",
       "      <th>2</th>\n",
       "      <td>10476</td>\n",
       "      <td>1958</td>\n",
       "      <td>Graduation</td>\n",
       "      <td>Married</td>\n",
       "      <td>$67,267.00</td>\n",
       "      <td>0</td>\n",
       "      <td>1</td>\n",
       "      <td>5/13/2014</td>\n",
       "      <td>0</td>\n",
       "      <td>134</td>\n",
       "      <td>...</td>\n",
       "      <td>5</td>\n",
       "      <td>2</td>\n",
       "      <td>0</td>\n",
       "      <td>0</td>\n",
       "      <td>0</td>\n",
       "      <td>0</td>\n",
       "      <td>0</td>\n",
       "      <td>0</td>\n",
       "      <td>0</td>\n",
       "      <td>US</td>\n",
       "    </tr>\n",
       "    <tr>\n",
       "      <th>3</th>\n",
       "      <td>1386</td>\n",
       "      <td>1967</td>\n",
       "      <td>Graduation</td>\n",
       "      <td>Together</td>\n",
       "      <td>$32,474.00</td>\n",
       "      <td>1</td>\n",
       "      <td>1</td>\n",
       "      <td>5/11/2014</td>\n",
       "      <td>0</td>\n",
       "      <td>10</td>\n",
       "      <td>...</td>\n",
       "      <td>2</td>\n",
       "      <td>7</td>\n",
       "      <td>0</td>\n",
       "      <td>0</td>\n",
       "      <td>0</td>\n",
       "      <td>0</td>\n",
       "      <td>0</td>\n",
       "      <td>0</td>\n",
       "      <td>0</td>\n",
       "      <td>AUS</td>\n",
       "    </tr>\n",
       "    <tr>\n",
       "      <th>4</th>\n",
       "      <td>5371</td>\n",
       "      <td>1989</td>\n",
       "      <td>Graduation</td>\n",
       "      <td>Single</td>\n",
       "      <td>$21,474.00</td>\n",
       "      <td>1</td>\n",
       "      <td>0</td>\n",
       "      <td>4/8/2014</td>\n",
       "      <td>0</td>\n",
       "      <td>6</td>\n",
       "      <td>...</td>\n",
       "      <td>2</td>\n",
       "      <td>7</td>\n",
       "      <td>1</td>\n",
       "      <td>0</td>\n",
       "      <td>0</td>\n",
       "      <td>0</td>\n",
       "      <td>0</td>\n",
       "      <td>1</td>\n",
       "      <td>0</td>\n",
       "      <td>SP</td>\n",
       "    </tr>\n",
       "  </tbody>\n",
       "</table>\n",
       "<p>5 rows × 28 columns</p>\n",
       "</div>"
      ],
      "text/plain": [
       "      ID  Year_Birth   Education Marital_Status      Income   Kidhome  \\\n",
       "0   1826        1970  Graduation       Divorced  $84,835.00         0   \n",
       "1      1        1961  Graduation         Single  $57,091.00         0   \n",
       "2  10476        1958  Graduation        Married  $67,267.00         0   \n",
       "3   1386        1967  Graduation       Together  $32,474.00         1   \n",
       "4   5371        1989  Graduation         Single  $21,474.00         1   \n",
       "\n",
       "   Teenhome Dt_Customer  Recency  MntWines  ...  NumStorePurchases  \\\n",
       "0         0   6/16/2014        0       189  ...                  6   \n",
       "1         0   6/15/2014        0       464  ...                  7   \n",
       "2         1   5/13/2014        0       134  ...                  5   \n",
       "3         1   5/11/2014        0        10  ...                  2   \n",
       "4         0    4/8/2014        0         6  ...                  2   \n",
       "\n",
       "   NumWebVisitsMonth  AcceptedCmp3  AcceptedCmp4  AcceptedCmp5  AcceptedCmp1  \\\n",
       "0                  1             0             0             0             0   \n",
       "1                  5             0             0             0             0   \n",
       "2                  2             0             0             0             0   \n",
       "3                  7             0             0             0             0   \n",
       "4                  7             1             0             0             0   \n",
       "\n",
       "   AcceptedCmp2  Response  Complain  Country  \n",
       "0             0         1         0       SP  \n",
       "1             1         1         0       CA  \n",
       "2             0         0         0       US  \n",
       "3             0         0         0      AUS  \n",
       "4             0         1         0       SP  \n",
       "\n",
       "[5 rows x 28 columns]"
      ]
     },
     "execution_count": 4,
     "metadata": {},
     "output_type": "execute_result"
    }
   ],
   "source": [
    "df = pd.read_csv('dataset/marketing_data.csv')\n",
    "df.head(5)"
   ]
  },
  {
   "cell_type": "code",
   "execution_count": 5,
   "id": "1deff0d9",
   "metadata": {},
   "outputs": [
    {
     "name": "stdout",
     "output_type": "stream",
     "text": [
      "<class 'pandas.core.frame.DataFrame'>\n",
      "RangeIndex: 2240 entries, 0 to 2239\n",
      "Data columns (total 28 columns):\n",
      " #   Column               Non-Null Count  Dtype \n",
      "---  ------               --------------  ----- \n",
      " 0   ID                   2240 non-null   int64 \n",
      " 1   Year_Birth           2240 non-null   int64 \n",
      " 2   Education            2240 non-null   object\n",
      " 3   Marital_Status       2240 non-null   object\n",
      " 4    Income              2216 non-null   object\n",
      " 5   Kidhome              2240 non-null   int64 \n",
      " 6   Teenhome             2240 non-null   int64 \n",
      " 7   Dt_Customer          2240 non-null   object\n",
      " 8   Recency              2240 non-null   int64 \n",
      " 9   MntWines             2240 non-null   int64 \n",
      " 10  MntFruits            2240 non-null   int64 \n",
      " 11  MntMeatProducts      2240 non-null   int64 \n",
      " 12  MntFishProducts      2240 non-null   int64 \n",
      " 13  MntSweetProducts     2240 non-null   int64 \n",
      " 14  MntGoldProds         2240 non-null   int64 \n",
      " 15  NumDealsPurchases    2240 non-null   int64 \n",
      " 16  NumWebPurchases      2240 non-null   int64 \n",
      " 17  NumCatalogPurchases  2240 non-null   int64 \n",
      " 18  NumStorePurchases    2240 non-null   int64 \n",
      " 19  NumWebVisitsMonth    2240 non-null   int64 \n",
      " 20  AcceptedCmp3         2240 non-null   int64 \n",
      " 21  AcceptedCmp4         2240 non-null   int64 \n",
      " 22  AcceptedCmp5         2240 non-null   int64 \n",
      " 23  AcceptedCmp1         2240 non-null   int64 \n",
      " 24  AcceptedCmp2         2240 non-null   int64 \n",
      " 25  Response             2240 non-null   int64 \n",
      " 26  Complain             2240 non-null   int64 \n",
      " 27  Country              2240 non-null   object\n",
      "dtypes: int64(23), object(5)\n",
      "memory usage: 490.1+ KB\n"
     ]
    }
   ],
   "source": [
    "df.info()"
   ]
  },
  {
   "cell_type": "markdown",
   "id": "7c4ba2be",
   "metadata": {},
   "source": [
    "## Rename Column"
   ]
  },
  {
   "cell_type": "code",
   "execution_count": 6,
   "id": "8846c90f",
   "metadata": {},
   "outputs": [],
   "source": [
    "df.rename(columns={'ID':'User_ID'}, inplace=True)\n",
    "df.rename(columns={' Income ':'Income'}, inplace=True)\n",
    "df.rename(columns={'Dt_Customer': 'Date_Enroll'}, inplace = True)\n",
    "df.rename(columns={'MntMeatProducts': 'MntMeats'}, inplace = True)\n",
    "df.rename(columns={'MntFishProducts': 'MntFishs'}, inplace = True)\n",
    "df.rename(columns={'MntSweetProducts': 'MntSweets'}, inplace = True)\n",
    "df.rename(columns={'MntGoldProds': 'MntGolds'}, inplace = True)"
   ]
  },
  {
   "cell_type": "code",
   "execution_count": 7,
   "id": "016eb257",
   "metadata": {
    "scrolled": true
   },
   "outputs": [
    {
     "name": "stdout",
     "output_type": "stream",
     "text": [
      "<class 'pandas.core.frame.DataFrame'>\n",
      "RangeIndex: 2240 entries, 0 to 2239\n",
      "Data columns (total 28 columns):\n",
      " #   Column               Non-Null Count  Dtype \n",
      "---  ------               --------------  ----- \n",
      " 0   User_ID              2240 non-null   int64 \n",
      " 1   Year_Birth           2240 non-null   int64 \n",
      " 2   Education            2240 non-null   object\n",
      " 3   Marital_Status       2240 non-null   object\n",
      " 4   Income               2216 non-null   object\n",
      " 5   Kidhome              2240 non-null   int64 \n",
      " 6   Teenhome             2240 non-null   int64 \n",
      " 7   Date_Enroll          2240 non-null   object\n",
      " 8   Recency              2240 non-null   int64 \n",
      " 9   MntWines             2240 non-null   int64 \n",
      " 10  MntFruits            2240 non-null   int64 \n",
      " 11  MntMeats             2240 non-null   int64 \n",
      " 12  MntFishs             2240 non-null   int64 \n",
      " 13  MntSweets            2240 non-null   int64 \n",
      " 14  MntGolds             2240 non-null   int64 \n",
      " 15  NumDealsPurchases    2240 non-null   int64 \n",
      " 16  NumWebPurchases      2240 non-null   int64 \n",
      " 17  NumCatalogPurchases  2240 non-null   int64 \n",
      " 18  NumStorePurchases    2240 non-null   int64 \n",
      " 19  NumWebVisitsMonth    2240 non-null   int64 \n",
      " 20  AcceptedCmp3         2240 non-null   int64 \n",
      " 21  AcceptedCmp4         2240 non-null   int64 \n",
      " 22  AcceptedCmp5         2240 non-null   int64 \n",
      " 23  AcceptedCmp1         2240 non-null   int64 \n",
      " 24  AcceptedCmp2         2240 non-null   int64 \n",
      " 25  Response             2240 non-null   int64 \n",
      " 26  Complain             2240 non-null   int64 \n",
      " 27  Country              2240 non-null   object\n",
      "dtypes: int64(23), object(5)\n",
      "memory usage: 490.1+ KB\n"
     ]
    }
   ],
   "source": [
    "df.info()"
   ]
  },
  {
   "cell_type": "markdown",
   "id": "d332193e",
   "metadata": {},
   "source": [
    "## Categorical value column Country"
   ]
  },
  {
   "cell_type": "code",
   "execution_count": 8,
   "id": "11959dc6",
   "metadata": {},
   "outputs": [
    {
     "data": {
      "text/plain": [
       "array(['SP', 'CA', 'US', 'AUS', 'GER', 'IND', 'SA', 'ME'], dtype=object)"
      ]
     },
     "execution_count": 8,
     "metadata": {},
     "output_type": "execute_result"
    }
   ],
   "source": [
    "df['Country'].unique()"
   ]
  },
  {
   "cell_type": "code",
   "execution_count": 9,
   "id": "cc8ca665",
   "metadata": {},
   "outputs": [],
   "source": [
    "value_to_replace = {'SA': 'South Africa', \n",
    "                    'CA': 'Canada', \n",
    "                    'SP': 'Spain', \n",
    "                    'GER': 'Germany', \n",
    "                    'IND': 'India', \n",
    "                    'US': 'United States',\n",
    "                    'AUS': 'Australia',\n",
    "                   'ME': 'Montenegro'}\n",
    "df['Country'].replace(value_to_replace, inplace=True)"
   ]
  },
  {
   "cell_type": "code",
   "execution_count": 10,
   "id": "a0e0fe29",
   "metadata": {},
   "outputs": [
    {
     "data": {
      "text/plain": [
       "0            Spain\n",
       "1           Canada\n",
       "2    United States\n",
       "3        Australia\n",
       "4            Spain\n",
       "Name: Country, dtype: object"
      ]
     },
     "execution_count": 10,
     "metadata": {},
     "output_type": "execute_result"
    }
   ],
   "source": [
    "df['Country'].head(5)"
   ]
  },
  {
   "cell_type": "markdown",
   "id": "6e9cb97d",
   "metadata": {},
   "source": [
    "## Format datatime\n",
    "Ta cần chuyển cột **Date_Enroll** về dạng Datatime theo format **yyyymmdd**"
   ]
  },
  {
   "cell_type": "code",
   "execution_count": 11,
   "id": "22042fd0",
   "metadata": {},
   "outputs": [
    {
     "data": {
      "text/plain": [
       "0   2014-06-16\n",
       "1   2014-06-15\n",
       "2   2014-05-13\n",
       "3   2014-05-11\n",
       "4   2014-04-08\n",
       "Name: Date_Enroll, dtype: datetime64[ns]"
      ]
     },
     "execution_count": 11,
     "metadata": {},
     "output_type": "execute_result"
    }
   ],
   "source": [
    "df['Date_Enroll'] = pd.to_datetime(df['Date_Enroll'])\n",
    "df['Date_Enroll'].head(5)"
   ]
  },
  {
   "cell_type": "markdown",
   "id": "0bb9a4fb",
   "metadata": {},
   "source": [
    "## Format value type"
   ]
  },
  {
   "cell_type": "code",
   "execution_count": 12,
   "id": "7aac8fa4",
   "metadata": {},
   "outputs": [
    {
     "name": "stderr",
     "output_type": "stream",
     "text": [
      "C:\\Users\\NGHOAN~1\\AppData\\Local\\Temp/ipykernel_8220/3242172660.py:2: FutureWarning: The default value of regex will change from True to False in a future version. In addition, single character regular expressions will *not* be treated as literal strings when regex=True.\n",
      "  df[\"Income\"] = df[\"Income\"].str.replace(\"$\",\"\").str.replace(',', '')\n"
     ]
    }
   ],
   "source": [
    "# Chuyển đổi kiểu dữ liệu cột income\n",
    "df[\"Income\"] = df[\"Income\"].str.replace(\"$\",\"\").str.replace(',', '')\n",
    "df[\"Income\"] = df[\"Income\"].astype(float)"
   ]
  },
  {
   "cell_type": "code",
   "execution_count": 13,
   "id": "b771b620",
   "metadata": {},
   "outputs": [
    {
     "data": {
      "text/plain": [
       "0    84835.0\n",
       "1    57091.0\n",
       "2    67267.0\n",
       "3    32474.0\n",
       "4    21474.0\n",
       "Name: Income, dtype: float64"
      ]
     },
     "execution_count": 13,
     "metadata": {},
     "output_type": "execute_result"
    }
   ],
   "source": [
    "df['Income'].head(5)"
   ]
  },
  {
   "cell_type": "code",
   "execution_count": 14,
   "id": "05fc6026",
   "metadata": {},
   "outputs": [],
   "source": [
    "# Chuyển đổi dữ liệu các cột chi phí\n",
    "df[\"MntWines\"] = df[\"MntWines\"].astype(float)\n",
    "df[\"MntFruits\"] = df[\"MntFruits\"].astype(float)\n",
    "df[\"MntMeats\"] = df[\"MntMeats\"].astype(float)\n",
    "df[\"MntFishs\"] = df[\"MntFishs\"].astype(float)\n",
    "df[\"MntSweets\"] = df[\"MntSweets\"].astype(float)\n",
    "df[\"MntGolds\"] = df[\"MntGolds\"].astype(float)"
   ]
  },
  {
   "cell_type": "code",
   "execution_count": 15,
   "id": "ff8107b0",
   "metadata": {},
   "outputs": [
    {
     "name": "stdout",
     "output_type": "stream",
     "text": [
      "<class 'pandas.core.frame.DataFrame'>\n",
      "RangeIndex: 2240 entries, 0 to 2239\n",
      "Data columns (total 28 columns):\n",
      " #   Column               Non-Null Count  Dtype         \n",
      "---  ------               --------------  -----         \n",
      " 0   User_ID              2240 non-null   int64         \n",
      " 1   Year_Birth           2240 non-null   int64         \n",
      " 2   Education            2240 non-null   object        \n",
      " 3   Marital_Status       2240 non-null   object        \n",
      " 4   Income               2216 non-null   float64       \n",
      " 5   Kidhome              2240 non-null   int64         \n",
      " 6   Teenhome             2240 non-null   int64         \n",
      " 7   Date_Enroll          2240 non-null   datetime64[ns]\n",
      " 8   Recency              2240 non-null   int64         \n",
      " 9   MntWines             2240 non-null   float64       \n",
      " 10  MntFruits            2240 non-null   float64       \n",
      " 11  MntMeats             2240 non-null   float64       \n",
      " 12  MntFishs             2240 non-null   float64       \n",
      " 13  MntSweets            2240 non-null   float64       \n",
      " 14  MntGolds             2240 non-null   float64       \n",
      " 15  NumDealsPurchases    2240 non-null   int64         \n",
      " 16  NumWebPurchases      2240 non-null   int64         \n",
      " 17  NumCatalogPurchases  2240 non-null   int64         \n",
      " 18  NumStorePurchases    2240 non-null   int64         \n",
      " 19  NumWebVisitsMonth    2240 non-null   int64         \n",
      " 20  AcceptedCmp3         2240 non-null   int64         \n",
      " 21  AcceptedCmp4         2240 non-null   int64         \n",
      " 22  AcceptedCmp5         2240 non-null   int64         \n",
      " 23  AcceptedCmp1         2240 non-null   int64         \n",
      " 24  AcceptedCmp2         2240 non-null   int64         \n",
      " 25  Response             2240 non-null   int64         \n",
      " 26  Complain             2240 non-null   int64         \n",
      " 27  Country              2240 non-null   object        \n",
      "dtypes: datetime64[ns](1), float64(7), int64(17), object(3)\n",
      "memory usage: 490.1+ KB\n"
     ]
    }
   ],
   "source": [
    "df.info()"
   ]
  },
  {
   "cell_type": "markdown",
   "id": "58eaba16",
   "metadata": {},
   "source": [
    "## Result\n",
    "Dữ liệu sau khi được xử lý bao gồm 38 cột và 2216 dòng"
   ]
  },
  {
   "cell_type": "code",
   "execution_count": 16,
   "id": "e5f51fff",
   "metadata": {},
   "outputs": [
    {
     "data": {
      "text/html": [
       "<div>\n",
       "<style scoped>\n",
       "    .dataframe tbody tr th:only-of-type {\n",
       "        vertical-align: middle;\n",
       "    }\n",
       "\n",
       "    .dataframe tbody tr th {\n",
       "        vertical-align: top;\n",
       "    }\n",
       "\n",
       "    .dataframe thead th {\n",
       "        text-align: right;\n",
       "    }\n",
       "</style>\n",
       "<table border=\"1\" class=\"dataframe\">\n",
       "  <thead>\n",
       "    <tr style=\"text-align: right;\">\n",
       "      <th></th>\n",
       "      <th>User_ID</th>\n",
       "      <th>Year_Birth</th>\n",
       "      <th>Education</th>\n",
       "      <th>Marital_Status</th>\n",
       "      <th>Income</th>\n",
       "      <th>Kidhome</th>\n",
       "      <th>Teenhome</th>\n",
       "      <th>Date_Enroll</th>\n",
       "      <th>Recency</th>\n",
       "      <th>MntWines</th>\n",
       "      <th>...</th>\n",
       "      <th>NumStorePurchases</th>\n",
       "      <th>NumWebVisitsMonth</th>\n",
       "      <th>AcceptedCmp3</th>\n",
       "      <th>AcceptedCmp4</th>\n",
       "      <th>AcceptedCmp5</th>\n",
       "      <th>AcceptedCmp1</th>\n",
       "      <th>AcceptedCmp2</th>\n",
       "      <th>Response</th>\n",
       "      <th>Complain</th>\n",
       "      <th>Country</th>\n",
       "    </tr>\n",
       "  </thead>\n",
       "  <tbody>\n",
       "    <tr>\n",
       "      <th>0</th>\n",
       "      <td>1826</td>\n",
       "      <td>1970</td>\n",
       "      <td>Graduation</td>\n",
       "      <td>Divorced</td>\n",
       "      <td>84835.0</td>\n",
       "      <td>0</td>\n",
       "      <td>0</td>\n",
       "      <td>2014-06-16</td>\n",
       "      <td>0</td>\n",
       "      <td>189.0</td>\n",
       "      <td>...</td>\n",
       "      <td>6</td>\n",
       "      <td>1</td>\n",
       "      <td>0</td>\n",
       "      <td>0</td>\n",
       "      <td>0</td>\n",
       "      <td>0</td>\n",
       "      <td>0</td>\n",
       "      <td>1</td>\n",
       "      <td>0</td>\n",
       "      <td>Spain</td>\n",
       "    </tr>\n",
       "    <tr>\n",
       "      <th>1</th>\n",
       "      <td>1</td>\n",
       "      <td>1961</td>\n",
       "      <td>Graduation</td>\n",
       "      <td>Single</td>\n",
       "      <td>57091.0</td>\n",
       "      <td>0</td>\n",
       "      <td>0</td>\n",
       "      <td>2014-06-15</td>\n",
       "      <td>0</td>\n",
       "      <td>464.0</td>\n",
       "      <td>...</td>\n",
       "      <td>7</td>\n",
       "      <td>5</td>\n",
       "      <td>0</td>\n",
       "      <td>0</td>\n",
       "      <td>0</td>\n",
       "      <td>0</td>\n",
       "      <td>1</td>\n",
       "      <td>1</td>\n",
       "      <td>0</td>\n",
       "      <td>Canada</td>\n",
       "    </tr>\n",
       "    <tr>\n",
       "      <th>2</th>\n",
       "      <td>10476</td>\n",
       "      <td>1958</td>\n",
       "      <td>Graduation</td>\n",
       "      <td>Married</td>\n",
       "      <td>67267.0</td>\n",
       "      <td>0</td>\n",
       "      <td>1</td>\n",
       "      <td>2014-05-13</td>\n",
       "      <td>0</td>\n",
       "      <td>134.0</td>\n",
       "      <td>...</td>\n",
       "      <td>5</td>\n",
       "      <td>2</td>\n",
       "      <td>0</td>\n",
       "      <td>0</td>\n",
       "      <td>0</td>\n",
       "      <td>0</td>\n",
       "      <td>0</td>\n",
       "      <td>0</td>\n",
       "      <td>0</td>\n",
       "      <td>United States</td>\n",
       "    </tr>\n",
       "    <tr>\n",
       "      <th>3</th>\n",
       "      <td>1386</td>\n",
       "      <td>1967</td>\n",
       "      <td>Graduation</td>\n",
       "      <td>Together</td>\n",
       "      <td>32474.0</td>\n",
       "      <td>1</td>\n",
       "      <td>1</td>\n",
       "      <td>2014-05-11</td>\n",
       "      <td>0</td>\n",
       "      <td>10.0</td>\n",
       "      <td>...</td>\n",
       "      <td>2</td>\n",
       "      <td>7</td>\n",
       "      <td>0</td>\n",
       "      <td>0</td>\n",
       "      <td>0</td>\n",
       "      <td>0</td>\n",
       "      <td>0</td>\n",
       "      <td>0</td>\n",
       "      <td>0</td>\n",
       "      <td>Australia</td>\n",
       "    </tr>\n",
       "    <tr>\n",
       "      <th>4</th>\n",
       "      <td>5371</td>\n",
       "      <td>1989</td>\n",
       "      <td>Graduation</td>\n",
       "      <td>Single</td>\n",
       "      <td>21474.0</td>\n",
       "      <td>1</td>\n",
       "      <td>0</td>\n",
       "      <td>2014-04-08</td>\n",
       "      <td>0</td>\n",
       "      <td>6.0</td>\n",
       "      <td>...</td>\n",
       "      <td>2</td>\n",
       "      <td>7</td>\n",
       "      <td>1</td>\n",
       "      <td>0</td>\n",
       "      <td>0</td>\n",
       "      <td>0</td>\n",
       "      <td>0</td>\n",
       "      <td>1</td>\n",
       "      <td>0</td>\n",
       "      <td>Spain</td>\n",
       "    </tr>\n",
       "  </tbody>\n",
       "</table>\n",
       "<p>5 rows × 28 columns</p>\n",
       "</div>"
      ],
      "text/plain": [
       "   User_ID  Year_Birth   Education Marital_Status   Income  Kidhome  Teenhome  \\\n",
       "0     1826        1970  Graduation       Divorced  84835.0        0         0   \n",
       "1        1        1961  Graduation         Single  57091.0        0         0   \n",
       "2    10476        1958  Graduation        Married  67267.0        0         1   \n",
       "3     1386        1967  Graduation       Together  32474.0        1         1   \n",
       "4     5371        1989  Graduation         Single  21474.0        1         0   \n",
       "\n",
       "  Date_Enroll  Recency  MntWines  ...  NumStorePurchases  NumWebVisitsMonth  \\\n",
       "0  2014-06-16        0     189.0  ...                  6                  1   \n",
       "1  2014-06-15        0     464.0  ...                  7                  5   \n",
       "2  2014-05-13        0     134.0  ...                  5                  2   \n",
       "3  2014-05-11        0      10.0  ...                  2                  7   \n",
       "4  2014-04-08        0       6.0  ...                  2                  7   \n",
       "\n",
       "   AcceptedCmp3  AcceptedCmp4  AcceptedCmp5  AcceptedCmp1  AcceptedCmp2  \\\n",
       "0             0             0             0             0             0   \n",
       "1             0             0             0             0             1   \n",
       "2             0             0             0             0             0   \n",
       "3             0             0             0             0             0   \n",
       "4             1             0             0             0             0   \n",
       "\n",
       "   Response  Complain        Country  \n",
       "0         1         0          Spain  \n",
       "1         1         0         Canada  \n",
       "2         0         0  United States  \n",
       "3         0         0      Australia  \n",
       "4         1         0          Spain  \n",
       "\n",
       "[5 rows x 28 columns]"
      ]
     },
     "execution_count": 16,
     "metadata": {},
     "output_type": "execute_result"
    }
   ],
   "source": [
    "df.head(5)"
   ]
  },
  {
   "cell_type": "code",
   "execution_count": 17,
   "id": "70e8fdb3",
   "metadata": {},
   "outputs": [],
   "source": [
    "# lưu vào file csv\n",
    "df.to_csv('dataset/marketing_data_final.csv', index=False)"
   ]
  }
 ],
 "metadata": {
  "kernelspec": {
   "display_name": "Python 3 (ipykernel)",
   "language": "python",
   "name": "python3"
  },
  "language_info": {
   "codemirror_mode": {
    "name": "ipython",
    "version": 3
   },
   "file_extension": ".py",
   "mimetype": "text/x-python",
   "name": "python",
   "nbconvert_exporter": "python",
   "pygments_lexer": "ipython3",
   "version": "3.9.6"
  }
 },
 "nbformat": 4,
 "nbformat_minor": 5
}
